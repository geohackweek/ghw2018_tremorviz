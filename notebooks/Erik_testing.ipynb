{
 "cells": [
  {
   "cell_type": "code",
   "execution_count": 33,
   "metadata": {},
   "outputs": [],
   "source": [
    "import altair as alt\n",
    "import pandas as pd\n",
    "import matplotlib.pyplot as plt"
   ]
  },
  {
   "cell_type": "code",
   "execution_count": 2,
   "metadata": {},
   "outputs": [],
   "source": [
    "trem_list = pd.read_pickle('../data/tremor/aghosh.pkl')"
   ]
  },
  {
   "cell_type": "code",
   "execution_count": 3,
   "metadata": {},
   "outputs": [
    {
     "data": {
      "text/html": [
       "<div>\n",
       "<style scoped>\n",
       "    .dataframe tbody tr th:only-of-type {\n",
       "        vertical-align: middle;\n",
       "    }\n",
       "\n",
       "    .dataframe tbody tr th {\n",
       "        vertical-align: top;\n",
       "    }\n",
       "\n",
       "    .dataframe thead th {\n",
       "        text-align: right;\n",
       "    }\n",
       "</style>\n",
       "<table border=\"1\" class=\"dataframe\">\n",
       "  <thead>\n",
       "    <tr style=\"text-align: right;\">\n",
       "      <th></th>\n",
       "      <th>Year</th>\n",
       "      <th>Month</th>\n",
       "      <th>Day</th>\n",
       "      <th>Hour</th>\n",
       "      <th>Minute</th>\n",
       "      <th>Latitude</th>\n",
       "      <th>Longitude</th>\n",
       "      <th>Depth</th>\n",
       "      <th>errLat</th>\n",
       "      <th>errLon</th>\n",
       "      <th>errDepth</th>\n",
       "    </tr>\n",
       "  </thead>\n",
       "  <tbody>\n",
       "    <tr>\n",
       "      <th>0</th>\n",
       "      <td>2009</td>\n",
       "      <td>6</td>\n",
       "      <td>20</td>\n",
       "      <td>1</td>\n",
       "      <td>26</td>\n",
       "      <td>48.232500</td>\n",
       "      <td>-123.065000</td>\n",
       "      <td>28.000000</td>\n",
       "      <td>10.423439</td>\n",
       "      <td>7.125217</td>\n",
       "      <td>17.262677</td>\n",
       "    </tr>\n",
       "    <tr>\n",
       "      <th>1</th>\n",
       "      <td>2009</td>\n",
       "      <td>6</td>\n",
       "      <td>20</td>\n",
       "      <td>1</td>\n",
       "      <td>28</td>\n",
       "      <td>48.172500</td>\n",
       "      <td>-123.050000</td>\n",
       "      <td>23.750000</td>\n",
       "      <td>2.451065</td>\n",
       "      <td>1.355398</td>\n",
       "      <td>3.774917</td>\n",
       "    </tr>\n",
       "    <tr>\n",
       "      <th>2</th>\n",
       "      <td>2009</td>\n",
       "      <td>6</td>\n",
       "      <td>20</td>\n",
       "      <td>9</td>\n",
       "      <td>20</td>\n",
       "      <td>48.453333</td>\n",
       "      <td>-123.066667</td>\n",
       "      <td>55.000000</td>\n",
       "      <td>9.907575</td>\n",
       "      <td>2.795187</td>\n",
       "      <td>7.000000</td>\n",
       "    </tr>\n",
       "    <tr>\n",
       "      <th>3</th>\n",
       "      <td>2009</td>\n",
       "      <td>6</td>\n",
       "      <td>20</td>\n",
       "      <td>21</td>\n",
       "      <td>3</td>\n",
       "      <td>48.403333</td>\n",
       "      <td>-123.726667</td>\n",
       "      <td>53.333333</td>\n",
       "      <td>8.934842</td>\n",
       "      <td>11.118311</td>\n",
       "      <td>31.659648</td>\n",
       "    </tr>\n",
       "    <tr>\n",
       "      <th>4</th>\n",
       "      <td>2009</td>\n",
       "      <td>6</td>\n",
       "      <td>21</td>\n",
       "      <td>0</td>\n",
       "      <td>42</td>\n",
       "      <td>48.030000</td>\n",
       "      <td>-122.875000</td>\n",
       "      <td>21.000000</td>\n",
       "      <td>4.328503</td>\n",
       "      <td>7.153370</td>\n",
       "      <td>12.909944</td>\n",
       "    </tr>\n",
       "  </tbody>\n",
       "</table>\n",
       "</div>"
      ],
      "text/plain": [
       "   Year  Month  Day  Hour  Minute   Latitude   Longitude      Depth  \\\n",
       "0  2009      6   20     1      26  48.232500 -123.065000  28.000000   \n",
       "1  2009      6   20     1      28  48.172500 -123.050000  23.750000   \n",
       "2  2009      6   20     9      20  48.453333 -123.066667  55.000000   \n",
       "3  2009      6   20    21       3  48.403333 -123.726667  53.333333   \n",
       "4  2009      6   21     0      42  48.030000 -122.875000  21.000000   \n",
       "\n",
       "      errLat     errLon   errDepth  \n",
       "0  10.423439   7.125217  17.262677  \n",
       "1   2.451065   1.355398   3.774917  \n",
       "2   9.907575   2.795187   7.000000  \n",
       "3   8.934842  11.118311  31.659648  \n",
       "4   4.328503   7.153370  12.909944  "
      ]
     },
     "execution_count": 3,
     "metadata": {},
     "output_type": "execute_result"
    }
   ],
   "source": [
    "tremors = trem_list[0]\n",
    "tremors.head()"
   ]
  },
  {
   "cell_type": "code",
   "execution_count": 4,
   "metadata": {},
   "outputs": [
    {
     "data": {
      "text/plain": [
       "pandas.core.series.Series"
      ]
     },
     "execution_count": 4,
     "metadata": {},
     "output_type": "execute_result"
    }
   ],
   "source": [
    "timestamp = pd.to_datetime(tremors[['Year', 'Month', 'Day', 'Hour', 'Minute']])\n",
    "type(timestamp)"
   ]
  },
  {
   "cell_type": "code",
   "execution_count": 5,
   "metadata": {},
   "outputs": [
    {
     "data": {
      "text/plain": [
       "pandas.core.frame.DataFrame"
      ]
     },
     "execution_count": 5,
     "metadata": {},
     "output_type": "execute_result"
    }
   ],
   "source": [
    "ts = timestamp.to_frame(name='Time')\n",
    "type(ts)"
   ]
  },
  {
   "cell_type": "code",
   "execution_count": 6,
   "metadata": {},
   "outputs": [
    {
     "data": {
      "text/html": [
       "<div>\n",
       "<style scoped>\n",
       "    .dataframe tbody tr th:only-of-type {\n",
       "        vertical-align: middle;\n",
       "    }\n",
       "\n",
       "    .dataframe tbody tr th {\n",
       "        vertical-align: top;\n",
       "    }\n",
       "\n",
       "    .dataframe thead th {\n",
       "        text-align: right;\n",
       "    }\n",
       "</style>\n",
       "<table border=\"1\" class=\"dataframe\">\n",
       "  <thead>\n",
       "    <tr style=\"text-align: right;\">\n",
       "      <th></th>\n",
       "      <th>Latitude</th>\n",
       "      <th>Longitude</th>\n",
       "      <th>Depth</th>\n",
       "      <th>errLat</th>\n",
       "      <th>errLon</th>\n",
       "      <th>errDepth</th>\n",
       "    </tr>\n",
       "  </thead>\n",
       "  <tbody>\n",
       "    <tr>\n",
       "      <th>0</th>\n",
       "      <td>48.232500</td>\n",
       "      <td>-123.065000</td>\n",
       "      <td>28.000000</td>\n",
       "      <td>10.423439</td>\n",
       "      <td>7.125217</td>\n",
       "      <td>17.262677</td>\n",
       "    </tr>\n",
       "    <tr>\n",
       "      <th>1</th>\n",
       "      <td>48.172500</td>\n",
       "      <td>-123.050000</td>\n",
       "      <td>23.750000</td>\n",
       "      <td>2.451065</td>\n",
       "      <td>1.355398</td>\n",
       "      <td>3.774917</td>\n",
       "    </tr>\n",
       "    <tr>\n",
       "      <th>2</th>\n",
       "      <td>48.453333</td>\n",
       "      <td>-123.066667</td>\n",
       "      <td>55.000000</td>\n",
       "      <td>9.907575</td>\n",
       "      <td>2.795187</td>\n",
       "      <td>7.000000</td>\n",
       "    </tr>\n",
       "    <tr>\n",
       "      <th>3</th>\n",
       "      <td>48.403333</td>\n",
       "      <td>-123.726667</td>\n",
       "      <td>53.333333</td>\n",
       "      <td>8.934842</td>\n",
       "      <td>11.118311</td>\n",
       "      <td>31.659648</td>\n",
       "    </tr>\n",
       "    <tr>\n",
       "      <th>4</th>\n",
       "      <td>48.030000</td>\n",
       "      <td>-122.875000</td>\n",
       "      <td>21.000000</td>\n",
       "      <td>4.328503</td>\n",
       "      <td>7.153370</td>\n",
       "      <td>12.909944</td>\n",
       "    </tr>\n",
       "  </tbody>\n",
       "</table>\n",
       "</div>"
      ],
      "text/plain": [
       "    Latitude   Longitude      Depth     errLat     errLon   errDepth\n",
       "0  48.232500 -123.065000  28.000000  10.423439   7.125217  17.262677\n",
       "1  48.172500 -123.050000  23.750000   2.451065   1.355398   3.774917\n",
       "2  48.453333 -123.066667  55.000000   9.907575   2.795187   7.000000\n",
       "3  48.403333 -123.726667  53.333333   8.934842  11.118311  31.659648\n",
       "4  48.030000 -122.875000  21.000000   4.328503   7.153370  12.909944"
      ]
     },
     "execution_count": 6,
     "metadata": {},
     "output_type": "execute_result"
    }
   ],
   "source": [
    "cleanup = tremors.drop(['Year', 'Month', 'Day', 'Hour', 'Minute'], axis=1)\n",
    "cleanup.head()"
   ]
  },
  {
   "cell_type": "code",
   "execution_count": 7,
   "metadata": {},
   "outputs": [
    {
     "data": {
      "text/html": [
       "<div>\n",
       "<style scoped>\n",
       "    .dataframe tbody tr th:only-of-type {\n",
       "        vertical-align: middle;\n",
       "    }\n",
       "\n",
       "    .dataframe tbody tr th {\n",
       "        vertical-align: top;\n",
       "    }\n",
       "\n",
       "    .dataframe thead th {\n",
       "        text-align: right;\n",
       "    }\n",
       "</style>\n",
       "<table border=\"1\" class=\"dataframe\">\n",
       "  <thead>\n",
       "    <tr style=\"text-align: right;\">\n",
       "      <th></th>\n",
       "      <th>Time</th>\n",
       "      <th>Latitude</th>\n",
       "      <th>Longitude</th>\n",
       "      <th>Depth</th>\n",
       "      <th>errLat</th>\n",
       "      <th>errLon</th>\n",
       "      <th>errDepth</th>\n",
       "    </tr>\n",
       "  </thead>\n",
       "  <tbody>\n",
       "    <tr>\n",
       "      <th>0</th>\n",
       "      <td>2009-06-20 01:26:00</td>\n",
       "      <td>48.232500</td>\n",
       "      <td>-123.065000</td>\n",
       "      <td>28.000000</td>\n",
       "      <td>10.423439</td>\n",
       "      <td>7.125217</td>\n",
       "      <td>17.262677</td>\n",
       "    </tr>\n",
       "    <tr>\n",
       "      <th>1</th>\n",
       "      <td>2009-06-20 01:28:00</td>\n",
       "      <td>48.172500</td>\n",
       "      <td>-123.050000</td>\n",
       "      <td>23.750000</td>\n",
       "      <td>2.451065</td>\n",
       "      <td>1.355398</td>\n",
       "      <td>3.774917</td>\n",
       "    </tr>\n",
       "    <tr>\n",
       "      <th>2</th>\n",
       "      <td>2009-06-20 09:20:00</td>\n",
       "      <td>48.453333</td>\n",
       "      <td>-123.066667</td>\n",
       "      <td>55.000000</td>\n",
       "      <td>9.907575</td>\n",
       "      <td>2.795187</td>\n",
       "      <td>7.000000</td>\n",
       "    </tr>\n",
       "    <tr>\n",
       "      <th>3</th>\n",
       "      <td>2009-06-20 21:03:00</td>\n",
       "      <td>48.403333</td>\n",
       "      <td>-123.726667</td>\n",
       "      <td>53.333333</td>\n",
       "      <td>8.934842</td>\n",
       "      <td>11.118311</td>\n",
       "      <td>31.659648</td>\n",
       "    </tr>\n",
       "    <tr>\n",
       "      <th>4</th>\n",
       "      <td>2009-06-21 00:42:00</td>\n",
       "      <td>48.030000</td>\n",
       "      <td>-122.875000</td>\n",
       "      <td>21.000000</td>\n",
       "      <td>4.328503</td>\n",
       "      <td>7.153370</td>\n",
       "      <td>12.909944</td>\n",
       "    </tr>\n",
       "  </tbody>\n",
       "</table>\n",
       "</div>"
      ],
      "text/plain": [
       "                 Time   Latitude   Longitude      Depth     errLat     errLon  \\\n",
       "0 2009-06-20 01:26:00  48.232500 -123.065000  28.000000  10.423439   7.125217   \n",
       "1 2009-06-20 01:28:00  48.172500 -123.050000  23.750000   2.451065   1.355398   \n",
       "2 2009-06-20 09:20:00  48.453333 -123.066667  55.000000   9.907575   2.795187   \n",
       "3 2009-06-20 21:03:00  48.403333 -123.726667  53.333333   8.934842  11.118311   \n",
       "4 2009-06-21 00:42:00  48.030000 -122.875000  21.000000   4.328503   7.153370   \n",
       "\n",
       "    errDepth  \n",
       "0  17.262677  \n",
       "1   3.774917  \n",
       "2   7.000000  \n",
       "3  31.659648  \n",
       "4  12.909944  "
      ]
     },
     "execution_count": 7,
     "metadata": {},
     "output_type": "execute_result"
    }
   ],
   "source": [
    "timed_tremors = pd.concat([ts, cleanup], axis=1)\n",
    "timed_tremors.head()"
   ]
  },
  {
   "cell_type": "code",
   "execution_count": 8,
   "metadata": {},
   "outputs": [],
   "source": [
    "timed_tremors.to_pickle(\"reducedDF.pkl\")"
   ]
  },
  {
   "cell_type": "code",
   "execution_count": 10,
   "metadata": {},
   "outputs": [],
   "source": [
    "test = pd.read_csv('../data/geodata/slab_contours.csv')"
   ]
  },
  {
   "cell_type": "code",
   "execution_count": 11,
   "metadata": {},
   "outputs": [
    {
     "data": {
      "text/html": [
       "<div>\n",
       "<style scoped>\n",
       "    .dataframe tbody tr th:only-of-type {\n",
       "        vertical-align: middle;\n",
       "    }\n",
       "\n",
       "    .dataframe tbody tr th {\n",
       "        vertical-align: top;\n",
       "    }\n",
       "\n",
       "    .dataframe thead th {\n",
       "        text-align: right;\n",
       "    }\n",
       "</style>\n",
       "<table border=\"1\" class=\"dataframe\">\n",
       "  <thead>\n",
       "    <tr style=\"text-align: right;\">\n",
       "      <th></th>\n",
       "      <th>X</th>\n",
       "      <th>Y</th>\n",
       "      <th>Depth_km</th>\n",
       "    </tr>\n",
       "  </thead>\n",
       "  <tbody>\n",
       "    <tr>\n",
       "      <th>0</th>\n",
       "      <td>-127.357345</td>\n",
       "      <td>48.914691</td>\n",
       "      <td>-5</td>\n",
       "    </tr>\n",
       "    <tr>\n",
       "      <th>1</th>\n",
       "      <td>-126.910226</td>\n",
       "      <td>48.531907</td>\n",
       "      <td>-5</td>\n",
       "    </tr>\n",
       "    <tr>\n",
       "      <th>2</th>\n",
       "      <td>-126.639075</td>\n",
       "      <td>48.260043</td>\n",
       "      <td>-5</td>\n",
       "    </tr>\n",
       "    <tr>\n",
       "      <th>3</th>\n",
       "      <td>-126.479377</td>\n",
       "      <td>48.065906</td>\n",
       "      <td>-5</td>\n",
       "    </tr>\n",
       "    <tr>\n",
       "      <th>4</th>\n",
       "      <td>-126.374462</td>\n",
       "      <td>47.869924</td>\n",
       "      <td>-5</td>\n",
       "    </tr>\n",
       "  </tbody>\n",
       "</table>\n",
       "</div>"
      ],
      "text/plain": [
       "            X          Y  Depth_km\n",
       "0 -127.357345  48.914691        -5\n",
       "1 -126.910226  48.531907        -5\n",
       "2 -126.639075  48.260043        -5\n",
       "3 -126.479377  48.065906        -5\n",
       "4 -126.374462  47.869924        -5"
      ]
     },
     "execution_count": 11,
     "metadata": {},
     "output_type": "execute_result"
    }
   ],
   "source": [
    "test.head()"
   ]
  },
  {
   "cell_type": "code",
   "execution_count": 16,
   "metadata": {},
   "outputs": [],
   "source": [
    "test2 = test.loc[test['Depth_km'] == -5]"
   ]
  },
  {
   "cell_type": "code",
   "execution_count": 19,
   "metadata": {},
   "outputs": [
    {
     "data": {
      "text/html": [
       "<div>\n",
       "<style scoped>\n",
       "    .dataframe tbody tr th:only-of-type {\n",
       "        vertical-align: middle;\n",
       "    }\n",
       "\n",
       "    .dataframe tbody tr th {\n",
       "        vertical-align: top;\n",
       "    }\n",
       "\n",
       "    .dataframe thead th {\n",
       "        text-align: right;\n",
       "    }\n",
       "</style>\n",
       "<table border=\"1\" class=\"dataframe\">\n",
       "  <thead>\n",
       "    <tr style=\"text-align: right;\">\n",
       "      <th></th>\n",
       "      <th>X</th>\n",
       "      <th>Y</th>\n",
       "    </tr>\n",
       "  </thead>\n",
       "  <tbody>\n",
       "    <tr>\n",
       "      <th>0</th>\n",
       "      <td>-127.357345</td>\n",
       "      <td>48.914691</td>\n",
       "    </tr>\n",
       "    <tr>\n",
       "      <th>1</th>\n",
       "      <td>-126.910226</td>\n",
       "      <td>48.531907</td>\n",
       "    </tr>\n",
       "    <tr>\n",
       "      <th>2</th>\n",
       "      <td>-126.639075</td>\n",
       "      <td>48.260043</td>\n",
       "    </tr>\n",
       "    <tr>\n",
       "      <th>3</th>\n",
       "      <td>-126.479377</td>\n",
       "      <td>48.065906</td>\n",
       "    </tr>\n",
       "    <tr>\n",
       "      <th>4</th>\n",
       "      <td>-126.374462</td>\n",
       "      <td>47.869924</td>\n",
       "    </tr>\n",
       "  </tbody>\n",
       "</table>\n",
       "</div>"
      ],
      "text/plain": [
       "            X          Y\n",
       "0 -127.357345  48.914691\n",
       "1 -126.910226  48.531907\n",
       "2 -126.639075  48.260043\n",
       "3 -126.479377  48.065906\n",
       "4 -126.374462  47.869924"
      ]
     },
     "execution_count": 19,
     "metadata": {},
     "output_type": "execute_result"
    }
   ],
   "source": [
    "test3 = test2.drop(['Depth_km'], axis=1)\n",
    "test3.head()"
   ]
  },
  {
   "cell_type": "code",
   "execution_count": 21,
   "metadata": {},
   "outputs": [
    {
     "data": {
      "text/plain": [
       "<matplotlib.axes._subplots.AxesSubplot at 0x11d0dfeb8>"
      ]
     },
     "execution_count": 21,
     "metadata": {},
     "output_type": "execute_result"
    },
    {
     "data": {
      "image/png": "[encoded data removed]",
      "text/plain": [
       "<Figure size 432x288 with 1 Axes>"
      ]
     },
     "metadata": {
      "needs_background": "light"
     },
     "output_type": "display_data"
    }
   ],
   "source": [
    "test3.plot.line(x='X', y='Y')"
   ]
  },
  {
   "cell_type": "code",
   "execution_count": 38,
   "metadata": {},
   "outputs": [
    {
     "data": {
      "image/png": "[encoded data removed]",
      "text/plain": [
       "<Figure size 432x288 with 1 Axes>"
      ]
     },
     "metadata": {
      "needs_background": "light"
     },
     "output_type": "display_data"
    }
   ],
   "source": [
    "ax = plt.gca()\n",
    "plt.xlim(-124, -122)\n",
    "plt.ylim(47, 49)\n",
    "plt.gca().set_aspect('equal', adjustable='box')\n",
    "plt.draw()\n",
    "for i in test.Depth_km.unique():\n",
    "    test2 = test.loc[test['Depth_km'] == i]\n",
    "    test3 = test2.drop(['Depth_km'], axis=1)\n",
    "    ax = test3.plot.line(x='X', y='Y',ax=ax,legend=False,color='k')"
   ]
  }
 ],
 "metadata": {
  "kernelspec": {
   "display_name": "Python 3",
   "language": "python",
   "name": "python3"
  },
  "language_info": {
   "codemirror_mode": {
    "name": "ipython",
    "version": 3
   },
   "file_extension": ".py",
   "mimetype": "text/x-python",
   "name": "python",
   "nbconvert_exporter": "python",
   "pygments_lexer": "ipython3",
   "version": "3.6.6"
  }
 },
 "nbformat": 4,
 "nbformat_minor": 2
}
