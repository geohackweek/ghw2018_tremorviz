{
 "cells": [
  {
   "cell_type": "markdown",
   "metadata": {},
   "source": [
    "# Tremor dataframe prep"
   ]
  },
  {
   "cell_type": "code",
   "execution_count": 1,
   "metadata": {},
   "outputs": [],
   "source": [
    "import pandas as pd"
   ]
  },
  {
   "cell_type": "markdown",
   "metadata": {},
   "source": [
    "## Step 1 - read pickle file into pandas\n",
    "Because the pickle file is actually a list with one element (the dataframe), we can select the first element of the list with standard Python list indexing `[0]`"
   ]
  },
  {
   "cell_type": "code",
   "execution_count": 2,
   "metadata": {},
   "outputs": [],
   "source": [
    "tremors = pd.read_pickle('../data/tremor/aghosh.pkl')[0]"
   ]
  },
  {
   "cell_type": "markdown",
   "metadata": {},
   "source": [
    "## Step 2 - make column headings lowercase\n",
    "This is a personal stylistic choice, but I think it helps reduce typos. It also means you don't have to guess whether or not a column has capital letters."
   ]
  },
  {
   "cell_type": "code",
   "execution_count": 3,
   "metadata": {},
   "outputs": [
    {
     "data": {
      "text/plain": [
       "Index(['year', 'month', 'day', 'hour', 'minute', 'latitude', 'longitude',\n",
       "       'depth', 'errlat', 'errlon', 'errdepth'],\n",
       "      dtype='object')"
      ]
     },
     "execution_count": 3,
     "metadata": {},
     "output_type": "execute_result"
    }
   ],
   "source": [
    "tremors.columns = tremors.columns.str.lower()\n",
    "tremors.columns"
   ]
  },
  {
   "cell_type": "code",
   "execution_count": 4,
   "metadata": {},
   "outputs": [
    {
     "data": {
      "text/html": [
       "<div>\n",
       "<style scoped>\n",
       "    .dataframe tbody tr th:only-of-type {\n",
       "        vertical-align: middle;\n",
       "    }\n",
       "\n",
       "    .dataframe tbody tr th {\n",
       "        vertical-align: top;\n",
       "    }\n",
       "\n",
       "    .dataframe thead th {\n",
       "        text-align: right;\n",
       "    }\n",
       "</style>\n",
       "<table border=\"1\" class=\"dataframe\">\n",
       "  <thead>\n",
       "    <tr style=\"text-align: right;\">\n",
       "      <th></th>\n",
       "      <th>year</th>\n",
       "      <th>month</th>\n",
       "      <th>day</th>\n",
       "      <th>hour</th>\n",
       "      <th>minute</th>\n",
       "      <th>latitude</th>\n",
       "      <th>longitude</th>\n",
       "      <th>depth</th>\n",
       "      <th>errlat</th>\n",
       "      <th>errlon</th>\n",
       "      <th>errdepth</th>\n",
       "    </tr>\n",
       "  </thead>\n",
       "  <tbody>\n",
       "    <tr>\n",
       "      <th>0</th>\n",
       "      <td>2009</td>\n",
       "      <td>6</td>\n",
       "      <td>20</td>\n",
       "      <td>1</td>\n",
       "      <td>26</td>\n",
       "      <td>48.232500</td>\n",
       "      <td>-123.065000</td>\n",
       "      <td>28.000000</td>\n",
       "      <td>10.423439</td>\n",
       "      <td>7.125217</td>\n",
       "      <td>17.262677</td>\n",
       "    </tr>\n",
       "    <tr>\n",
       "      <th>1</th>\n",
       "      <td>2009</td>\n",
       "      <td>6</td>\n",
       "      <td>20</td>\n",
       "      <td>1</td>\n",
       "      <td>28</td>\n",
       "      <td>48.172500</td>\n",
       "      <td>-123.050000</td>\n",
       "      <td>23.750000</td>\n",
       "      <td>2.451065</td>\n",
       "      <td>1.355398</td>\n",
       "      <td>3.774917</td>\n",
       "    </tr>\n",
       "    <tr>\n",
       "      <th>2</th>\n",
       "      <td>2009</td>\n",
       "      <td>6</td>\n",
       "      <td>20</td>\n",
       "      <td>9</td>\n",
       "      <td>20</td>\n",
       "      <td>48.453333</td>\n",
       "      <td>-123.066667</td>\n",
       "      <td>55.000000</td>\n",
       "      <td>9.907575</td>\n",
       "      <td>2.795187</td>\n",
       "      <td>7.000000</td>\n",
       "    </tr>\n",
       "    <tr>\n",
       "      <th>3</th>\n",
       "      <td>2009</td>\n",
       "      <td>6</td>\n",
       "      <td>20</td>\n",
       "      <td>21</td>\n",
       "      <td>3</td>\n",
       "      <td>48.403333</td>\n",
       "      <td>-123.726667</td>\n",
       "      <td>53.333333</td>\n",
       "      <td>8.934842</td>\n",
       "      <td>11.118311</td>\n",
       "      <td>31.659648</td>\n",
       "    </tr>\n",
       "    <tr>\n",
       "      <th>4</th>\n",
       "      <td>2009</td>\n",
       "      <td>6</td>\n",
       "      <td>21</td>\n",
       "      <td>0</td>\n",
       "      <td>42</td>\n",
       "      <td>48.030000</td>\n",
       "      <td>-122.875000</td>\n",
       "      <td>21.000000</td>\n",
       "      <td>4.328503</td>\n",
       "      <td>7.153370</td>\n",
       "      <td>12.909944</td>\n",
       "    </tr>\n",
       "  </tbody>\n",
       "</table>\n",
       "</div>"
      ],
      "text/plain": [
       "   year  month  day  hour  minute   latitude   longitude      depth  \\\n",
       "0  2009      6   20     1      26  48.232500 -123.065000  28.000000   \n",
       "1  2009      6   20     1      28  48.172500 -123.050000  23.750000   \n",
       "2  2009      6   20     9      20  48.453333 -123.066667  55.000000   \n",
       "3  2009      6   20    21       3  48.403333 -123.726667  53.333333   \n",
       "4  2009      6   21     0      42  48.030000 -122.875000  21.000000   \n",
       "\n",
       "      errlat     errlon   errdepth  \n",
       "0  10.423439   7.125217  17.262677  \n",
       "1   2.451065   1.355398   3.774917  \n",
       "2   9.907575   2.795187   7.000000  \n",
       "3   8.934842  11.118311  31.659648  \n",
       "4   4.328503   7.153370  12.909944  "
      ]
     },
     "execution_count": 4,
     "metadata": {},
     "output_type": "execute_result"
    }
   ],
   "source": [
    "tremors.head()  # check to see the new names have been assigned as we wanted"
   ]
  },
  {
   "cell_type": "markdown",
   "metadata": {},
   "source": [
    "## Step 3 - create single datetime column from date and time columns\n",
    "Pandas is very helpful here. You can use `pd.to_datetime()` and give it all of the columns that make up the datetime. If they are in an order that makes sense like we have (and maybe even if not?), pandas can interpret the values and put them together into one datetime."
   ]
  },
  {
   "cell_type": "code",
   "execution_count": 5,
   "metadata": {},
   "outputs": [],
   "source": [
    "tremors['datetime'] = pd.to_datetime(tremors[['year','month','day','hour','minute']])"
   ]
  },
  {
   "cell_type": "markdown",
   "metadata": {},
   "source": [
    "Note that I used some shortcut notation to specify the columns: \n",
    "```python\n",
    "tremors[['year','month','day','hour','minute']]\n",
    "```\n",
    "\n",
    "I could have also used the more verbose but probably a little more technically correct:\n",
    "```python\n",
    "tremors.loc[:,['year','month','day','hour','minute']]\n",
    "```"
   ]
  },
  {
   "cell_type": "code",
   "execution_count": 6,
   "metadata": {},
   "outputs": [
    {
     "data": {
      "text/html": [
       "<div>\n",
       "<style scoped>\n",
       "    .dataframe tbody tr th:only-of-type {\n",
       "        vertical-align: middle;\n",
       "    }\n",
       "\n",
       "    .dataframe tbody tr th {\n",
       "        vertical-align: top;\n",
       "    }\n",
       "\n",
       "    .dataframe thead th {\n",
       "        text-align: right;\n",
       "    }\n",
       "</style>\n",
       "<table border=\"1\" class=\"dataframe\">\n",
       "  <thead>\n",
       "    <tr style=\"text-align: right;\">\n",
       "      <th></th>\n",
       "      <th>year</th>\n",
       "      <th>month</th>\n",
       "      <th>day</th>\n",
       "      <th>hour</th>\n",
       "      <th>minute</th>\n",
       "      <th>latitude</th>\n",
       "      <th>longitude</th>\n",
       "      <th>depth</th>\n",
       "      <th>errlat</th>\n",
       "      <th>errlon</th>\n",
       "      <th>errdepth</th>\n",
       "      <th>datetime</th>\n",
       "    </tr>\n",
       "  </thead>\n",
       "  <tbody>\n",
       "    <tr>\n",
       "      <th>0</th>\n",
       "      <td>2009</td>\n",
       "      <td>6</td>\n",
       "      <td>20</td>\n",
       "      <td>1</td>\n",
       "      <td>26</td>\n",
       "      <td>48.232500</td>\n",
       "      <td>-123.065000</td>\n",
       "      <td>28.000000</td>\n",
       "      <td>10.423439</td>\n",
       "      <td>7.125217</td>\n",
       "      <td>17.262677</td>\n",
       "      <td>2009-06-20 01:26:00</td>\n",
       "    </tr>\n",
       "    <tr>\n",
       "      <th>1</th>\n",
       "      <td>2009</td>\n",
       "      <td>6</td>\n",
       "      <td>20</td>\n",
       "      <td>1</td>\n",
       "      <td>28</td>\n",
       "      <td>48.172500</td>\n",
       "      <td>-123.050000</td>\n",
       "      <td>23.750000</td>\n",
       "      <td>2.451065</td>\n",
       "      <td>1.355398</td>\n",
       "      <td>3.774917</td>\n",
       "      <td>2009-06-20 01:28:00</td>\n",
       "    </tr>\n",
       "    <tr>\n",
       "      <th>2</th>\n",
       "      <td>2009</td>\n",
       "      <td>6</td>\n",
       "      <td>20</td>\n",
       "      <td>9</td>\n",
       "      <td>20</td>\n",
       "      <td>48.453333</td>\n",
       "      <td>-123.066667</td>\n",
       "      <td>55.000000</td>\n",
       "      <td>9.907575</td>\n",
       "      <td>2.795187</td>\n",
       "      <td>7.000000</td>\n",
       "      <td>2009-06-20 09:20:00</td>\n",
       "    </tr>\n",
       "    <tr>\n",
       "      <th>3</th>\n",
       "      <td>2009</td>\n",
       "      <td>6</td>\n",
       "      <td>20</td>\n",
       "      <td>21</td>\n",
       "      <td>3</td>\n",
       "      <td>48.403333</td>\n",
       "      <td>-123.726667</td>\n",
       "      <td>53.333333</td>\n",
       "      <td>8.934842</td>\n",
       "      <td>11.118311</td>\n",
       "      <td>31.659648</td>\n",
       "      <td>2009-06-20 21:03:00</td>\n",
       "    </tr>\n",
       "    <tr>\n",
       "      <th>4</th>\n",
       "      <td>2009</td>\n",
       "      <td>6</td>\n",
       "      <td>21</td>\n",
       "      <td>0</td>\n",
       "      <td>42</td>\n",
       "      <td>48.030000</td>\n",
       "      <td>-122.875000</td>\n",
       "      <td>21.000000</td>\n",
       "      <td>4.328503</td>\n",
       "      <td>7.153370</td>\n",
       "      <td>12.909944</td>\n",
       "      <td>2009-06-21 00:42:00</td>\n",
       "    </tr>\n",
       "  </tbody>\n",
       "</table>\n",
       "</div>"
      ],
      "text/plain": [
       "   year  month  day  hour  minute   latitude   longitude      depth  \\\n",
       "0  2009      6   20     1      26  48.232500 -123.065000  28.000000   \n",
       "1  2009      6   20     1      28  48.172500 -123.050000  23.750000   \n",
       "2  2009      6   20     9      20  48.453333 -123.066667  55.000000   \n",
       "3  2009      6   20    21       3  48.403333 -123.726667  53.333333   \n",
       "4  2009      6   21     0      42  48.030000 -122.875000  21.000000   \n",
       "\n",
       "      errlat     errlon   errdepth            datetime  \n",
       "0  10.423439   7.125217  17.262677 2009-06-20 01:26:00  \n",
       "1   2.451065   1.355398   3.774917 2009-06-20 01:28:00  \n",
       "2   9.907575   2.795187   7.000000 2009-06-20 09:20:00  \n",
       "3   8.934842  11.118311  31.659648 2009-06-20 21:03:00  \n",
       "4   4.328503   7.153370  12.909944 2009-06-21 00:42:00  "
      ]
     },
     "execution_count": 6,
     "metadata": {},
     "output_type": "execute_result"
    }
   ],
   "source": [
    "tremors.head()"
   ]
  },
  {
   "cell_type": "markdown",
   "metadata": {},
   "source": [
    "## Step 4 - move `'datetime'` to front of the dataframe\n",
    "This is a totally unecessary step, but I just kind of like having the datetime in the first data column."
   ]
  },
  {
   "cell_type": "code",
   "execution_count": 7,
   "metadata": {},
   "outputs": [],
   "source": [
    "tremors =  tremors[['datetime'] + tremors.columns.tolist()[:-1]]"
   ]
  },
  {
   "cell_type": "markdown",
   "metadata": {},
   "source": [
    "## Step 5 - check data types of the columns\n",
    "Just looking for potential weirdness. When you read a file into pandas, you can tell it explicitly what data types to give the columns. However, pandas is pretty smart and usually can guess what data types make sense."
   ]
  },
  {
   "cell_type": "code",
   "execution_count": 8,
   "metadata": {},
   "outputs": [
    {
     "data": {
      "text/plain": [
       "datetime     datetime64[ns]\n",
       "year                  int64\n",
       "month                 int64\n",
       "day                   int64\n",
       "hour                  int64\n",
       "minute                int64\n",
       "latitude            float64\n",
       "longitude           float64\n",
       "depth               float64\n",
       "errlat              float64\n",
       "errlon              float64\n",
       "errdepth            float64\n",
       "dtype: object"
      ]
     },
     "execution_count": 8,
     "metadata": {},
     "output_type": "execute_result"
    }
   ],
   "source": [
    "tremors.dtypes"
   ]
  },
  {
   "cell_type": "markdown",
   "metadata": {},
   "source": [
    "Everything looks good. If we wanted to be really pedantic, we might say that the month should be a category not an integer because 1 (Jan) + 2 (Feb) != 3 (March), but we aren't likely to use that column anyway."
   ]
  },
  {
   "cell_type": "markdown",
   "metadata": {},
   "source": [
    "## Step 6 - save new complete df to pickle file"
   ]
  },
  {
   "cell_type": "code",
   "execution_count": 9,
   "metadata": {},
   "outputs": [],
   "source": [
    "tremors.to_pickle('../data/tremor/tremors.pkl')"
   ]
  },
  {
   "cell_type": "markdown",
   "metadata": {},
   "source": [
    "## Step 7 - save subset of 3000 rows to pickle file"
   ]
  },
  {
   "cell_type": "code",
   "execution_count": 10,
   "metadata": {},
   "outputs": [],
   "source": [
    "tremors[:3000].to_pickle('../data/tremor/tremors_n3000.pkl')"
   ]
  },
  {
   "cell_type": "markdown",
   "metadata": {},
   "source": [
    "## Step 8 - test reading pkl files\n",
    "Make sure those pickle files are "
   ]
  },
  {
   "cell_type": "code",
   "execution_count": 11,
   "metadata": {},
   "outputs": [],
   "source": [
    "test_df = pd.read_pickle('../data/tremor/tremors.pkl')"
   ]
  },
  {
   "cell_type": "code",
   "execution_count": 12,
   "metadata": {},
   "outputs": [
    {
     "data": {
      "text/plain": [
       "(28902, 12)"
      ]
     },
     "execution_count": 12,
     "metadata": {},
     "output_type": "execute_result"
    }
   ],
   "source": [
    "test_df.shape"
   ]
  },
  {
   "cell_type": "code",
   "execution_count": 13,
   "metadata": {},
   "outputs": [
    {
     "data": {
      "text/html": [
       "<div>\n",
       "<style scoped>\n",
       "    .dataframe tbody tr th:only-of-type {\n",
       "        vertical-align: middle;\n",
       "    }\n",
       "\n",
       "    .dataframe tbody tr th {\n",
       "        vertical-align: top;\n",
       "    }\n",
       "\n",
       "    .dataframe thead th {\n",
       "        text-align: right;\n",
       "    }\n",
       "</style>\n",
       "<table border=\"1\" class=\"dataframe\">\n",
       "  <thead>\n",
       "    <tr style=\"text-align: right;\">\n",
       "      <th></th>\n",
       "      <th>datetime</th>\n",
       "      <th>year</th>\n",
       "      <th>month</th>\n",
       "      <th>day</th>\n",
       "      <th>hour</th>\n",
       "      <th>minute</th>\n",
       "      <th>latitude</th>\n",
       "      <th>longitude</th>\n",
       "      <th>depth</th>\n",
       "      <th>errlat</th>\n",
       "      <th>errlon</th>\n",
       "      <th>errdepth</th>\n",
       "    </tr>\n",
       "  </thead>\n",
       "  <tbody>\n",
       "    <tr>\n",
       "      <th>0</th>\n",
       "      <td>2009-06-20 01:26:00</td>\n",
       "      <td>2009</td>\n",
       "      <td>6</td>\n",
       "      <td>20</td>\n",
       "      <td>1</td>\n",
       "      <td>26</td>\n",
       "      <td>48.232500</td>\n",
       "      <td>-123.065000</td>\n",
       "      <td>28.000000</td>\n",
       "      <td>10.423439</td>\n",
       "      <td>7.125217</td>\n",
       "      <td>17.262677</td>\n",
       "    </tr>\n",
       "    <tr>\n",
       "      <th>1</th>\n",
       "      <td>2009-06-20 01:28:00</td>\n",
       "      <td>2009</td>\n",
       "      <td>6</td>\n",
       "      <td>20</td>\n",
       "      <td>1</td>\n",
       "      <td>28</td>\n",
       "      <td>48.172500</td>\n",
       "      <td>-123.050000</td>\n",
       "      <td>23.750000</td>\n",
       "      <td>2.451065</td>\n",
       "      <td>1.355398</td>\n",
       "      <td>3.774917</td>\n",
       "    </tr>\n",
       "    <tr>\n",
       "      <th>2</th>\n",
       "      <td>2009-06-20 09:20:00</td>\n",
       "      <td>2009</td>\n",
       "      <td>6</td>\n",
       "      <td>20</td>\n",
       "      <td>9</td>\n",
       "      <td>20</td>\n",
       "      <td>48.453333</td>\n",
       "      <td>-123.066667</td>\n",
       "      <td>55.000000</td>\n",
       "      <td>9.907575</td>\n",
       "      <td>2.795187</td>\n",
       "      <td>7.000000</td>\n",
       "    </tr>\n",
       "    <tr>\n",
       "      <th>3</th>\n",
       "      <td>2009-06-20 21:03:00</td>\n",
       "      <td>2009</td>\n",
       "      <td>6</td>\n",
       "      <td>20</td>\n",
       "      <td>21</td>\n",
       "      <td>3</td>\n",
       "      <td>48.403333</td>\n",
       "      <td>-123.726667</td>\n",
       "      <td>53.333333</td>\n",
       "      <td>8.934842</td>\n",
       "      <td>11.118311</td>\n",
       "      <td>31.659648</td>\n",
       "    </tr>\n",
       "    <tr>\n",
       "      <th>4</th>\n",
       "      <td>2009-06-21 00:42:00</td>\n",
       "      <td>2009</td>\n",
       "      <td>6</td>\n",
       "      <td>21</td>\n",
       "      <td>0</td>\n",
       "      <td>42</td>\n",
       "      <td>48.030000</td>\n",
       "      <td>-122.875000</td>\n",
       "      <td>21.000000</td>\n",
       "      <td>4.328503</td>\n",
       "      <td>7.153370</td>\n",
       "      <td>12.909944</td>\n",
       "    </tr>\n",
       "  </tbody>\n",
       "</table>\n",
       "</div>"
      ],
      "text/plain": [
       "             datetime  year  month  day  hour  minute   latitude   longitude  \\\n",
       "0 2009-06-20 01:26:00  2009      6   20     1      26  48.232500 -123.065000   \n",
       "1 2009-06-20 01:28:00  2009      6   20     1      28  48.172500 -123.050000   \n",
       "2 2009-06-20 09:20:00  2009      6   20     9      20  48.453333 -123.066667   \n",
       "3 2009-06-20 21:03:00  2009      6   20    21       3  48.403333 -123.726667   \n",
       "4 2009-06-21 00:42:00  2009      6   21     0      42  48.030000 -122.875000   \n",
       "\n",
       "       depth     errlat     errlon   errdepth  \n",
       "0  28.000000  10.423439   7.125217  17.262677  \n",
       "1  23.750000   2.451065   1.355398   3.774917  \n",
       "2  55.000000   9.907575   2.795187   7.000000  \n",
       "3  53.333333   8.934842  11.118311  31.659648  \n",
       "4  21.000000   4.328503   7.153370  12.909944  "
      ]
     },
     "execution_count": 13,
     "metadata": {},
     "output_type": "execute_result"
    }
   ],
   "source": [
    "test_df.head()"
   ]
  },
  {
   "cell_type": "code",
   "execution_count": 14,
   "metadata": {},
   "outputs": [
    {
     "data": {
      "text/plain": [
       "datetime     datetime64[ns]\n",
       "year                  int64\n",
       "month                 int64\n",
       "day                   int64\n",
       "hour                  int64\n",
       "minute                int64\n",
       "latitude            float64\n",
       "longitude           float64\n",
       "depth               float64\n",
       "errlat              float64\n",
       "errlon              float64\n",
       "errdepth            float64\n",
       "dtype: object"
      ]
     },
     "execution_count": 14,
     "metadata": {},
     "output_type": "execute_result"
    }
   ],
   "source": [
    "test_df.dtypes"
   ]
  },
  {
   "cell_type": "code",
   "execution_count": 15,
   "metadata": {},
   "outputs": [],
   "source": [
    "test_3k = pd.read_pickle('../data/tremor/tremors_n3000.pkl')"
   ]
  },
  {
   "cell_type": "code",
   "execution_count": 16,
   "metadata": {},
   "outputs": [
    {
     "data": {
      "text/plain": [
       "(3000, 12)"
      ]
     },
     "execution_count": 16,
     "metadata": {},
     "output_type": "execute_result"
    }
   ],
   "source": [
    "test_3k.shape"
   ]
  },
  {
   "cell_type": "code",
   "execution_count": 17,
   "metadata": {},
   "outputs": [
    {
     "data": {
      "text/html": [
       "<div>\n",
       "<style scoped>\n",
       "    .dataframe tbody tr th:only-of-type {\n",
       "        vertical-align: middle;\n",
       "    }\n",
       "\n",
       "    .dataframe tbody tr th {\n",
       "        vertical-align: top;\n",
       "    }\n",
       "\n",
       "    .dataframe thead th {\n",
       "        text-align: right;\n",
       "    }\n",
       "</style>\n",
       "<table border=\"1\" class=\"dataframe\">\n",
       "  <thead>\n",
       "    <tr style=\"text-align: right;\">\n",
       "      <th></th>\n",
       "      <th>datetime</th>\n",
       "      <th>year</th>\n",
       "      <th>month</th>\n",
       "      <th>day</th>\n",
       "      <th>hour</th>\n",
       "      <th>minute</th>\n",
       "      <th>latitude</th>\n",
       "      <th>longitude</th>\n",
       "      <th>depth</th>\n",
       "      <th>errlat</th>\n",
       "      <th>errlon</th>\n",
       "      <th>errdepth</th>\n",
       "    </tr>\n",
       "  </thead>\n",
       "  <tbody>\n",
       "    <tr>\n",
       "      <th>0</th>\n",
       "      <td>2009-06-20 01:26:00</td>\n",
       "      <td>2009</td>\n",
       "      <td>6</td>\n",
       "      <td>20</td>\n",
       "      <td>1</td>\n",
       "      <td>26</td>\n",
       "      <td>48.232500</td>\n",
       "      <td>-123.065000</td>\n",
       "      <td>28.000000</td>\n",
       "      <td>10.423439</td>\n",
       "      <td>7.125217</td>\n",
       "      <td>17.262677</td>\n",
       "    </tr>\n",
       "    <tr>\n",
       "      <th>1</th>\n",
       "      <td>2009-06-20 01:28:00</td>\n",
       "      <td>2009</td>\n",
       "      <td>6</td>\n",
       "      <td>20</td>\n",
       "      <td>1</td>\n",
       "      <td>28</td>\n",
       "      <td>48.172500</td>\n",
       "      <td>-123.050000</td>\n",
       "      <td>23.750000</td>\n",
       "      <td>2.451065</td>\n",
       "      <td>1.355398</td>\n",
       "      <td>3.774917</td>\n",
       "    </tr>\n",
       "    <tr>\n",
       "      <th>2</th>\n",
       "      <td>2009-06-20 09:20:00</td>\n",
       "      <td>2009</td>\n",
       "      <td>6</td>\n",
       "      <td>20</td>\n",
       "      <td>9</td>\n",
       "      <td>20</td>\n",
       "      <td>48.453333</td>\n",
       "      <td>-123.066667</td>\n",
       "      <td>55.000000</td>\n",
       "      <td>9.907575</td>\n",
       "      <td>2.795187</td>\n",
       "      <td>7.000000</td>\n",
       "    </tr>\n",
       "    <tr>\n",
       "      <th>3</th>\n",
       "      <td>2009-06-20 21:03:00</td>\n",
       "      <td>2009</td>\n",
       "      <td>6</td>\n",
       "      <td>20</td>\n",
       "      <td>21</td>\n",
       "      <td>3</td>\n",
       "      <td>48.403333</td>\n",
       "      <td>-123.726667</td>\n",
       "      <td>53.333333</td>\n",
       "      <td>8.934842</td>\n",
       "      <td>11.118311</td>\n",
       "      <td>31.659648</td>\n",
       "    </tr>\n",
       "    <tr>\n",
       "      <th>4</th>\n",
       "      <td>2009-06-21 00:42:00</td>\n",
       "      <td>2009</td>\n",
       "      <td>6</td>\n",
       "      <td>21</td>\n",
       "      <td>0</td>\n",
       "      <td>42</td>\n",
       "      <td>48.030000</td>\n",
       "      <td>-122.875000</td>\n",
       "      <td>21.000000</td>\n",
       "      <td>4.328503</td>\n",
       "      <td>7.153370</td>\n",
       "      <td>12.909944</td>\n",
       "    </tr>\n",
       "  </tbody>\n",
       "</table>\n",
       "</div>"
      ],
      "text/plain": [
       "             datetime  year  month  day  hour  minute   latitude   longitude  \\\n",
       "0 2009-06-20 01:26:00  2009      6   20     1      26  48.232500 -123.065000   \n",
       "1 2009-06-20 01:28:00  2009      6   20     1      28  48.172500 -123.050000   \n",
       "2 2009-06-20 09:20:00  2009      6   20     9      20  48.453333 -123.066667   \n",
       "3 2009-06-20 21:03:00  2009      6   20    21       3  48.403333 -123.726667   \n",
       "4 2009-06-21 00:42:00  2009      6   21     0      42  48.030000 -122.875000   \n",
       "\n",
       "       depth     errlat     errlon   errdepth  \n",
       "0  28.000000  10.423439   7.125217  17.262677  \n",
       "1  23.750000   2.451065   1.355398   3.774917  \n",
       "2  55.000000   9.907575   2.795187   7.000000  \n",
       "3  53.333333   8.934842  11.118311  31.659648  \n",
       "4  21.000000   4.328503   7.153370  12.909944  "
      ]
     },
     "execution_count": 17,
     "metadata": {},
     "output_type": "execute_result"
    }
   ],
   "source": [
    "test_3k.head()"
   ]
  },
  {
   "cell_type": "code",
   "execution_count": 18,
   "metadata": {},
   "outputs": [
    {
     "data": {
      "text/plain": [
       "datetime     datetime64[ns]\n",
       "year                  int64\n",
       "month                 int64\n",
       "day                   int64\n",
       "hour                  int64\n",
       "minute                int64\n",
       "latitude            float64\n",
       "longitude           float64\n",
       "depth               float64\n",
       "errlat              float64\n",
       "errlon              float64\n",
       "errdepth            float64\n",
       "dtype: object"
      ]
     },
     "execution_count": 18,
     "metadata": {},
     "output_type": "execute_result"
    }
   ],
   "source": [
    "test_3k.dtypes"
   ]
  },
  {
   "cell_type": "code",
   "execution_count": null,
   "metadata": {},
   "outputs": [],
   "source": []
  }
 ],
 "metadata": {
  "kernelspec": {
   "display_name": "Python 3",
   "language": "python",
   "name": "python3"
  },
  "language_info": {
   "codemirror_mode": {
    "name": "ipython",
    "version": 3
   },
   "file_extension": ".py",
   "mimetype": "text/x-python",
   "name": "python",
   "nbconvert_exporter": "python",
   "pygments_lexer": "ipython3",
   "version": "3.6.6"
  }
 },
 "nbformat": 4,
 "nbformat_minor": 2
}
